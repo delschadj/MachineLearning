{
 "cells": [
  {
   "cell_type": "code",
   "execution_count": 1,
   "metadata": {
    "_cell_guid": "b1076dfc-b9ad-4769-8c92-a6c4dae69d19",
    "_uuid": "8f2839f25d086af736a60e9eeb907d3b93b6e0e5"
   },
   "outputs": [
    {
     "name": "stdout",
     "output_type": "stream",
     "text": [
      "['seeds_dataset.csv']\n"
     ]
    }
   ],
   "source": [
    "# This Python 3 environment comes with many helpful analytics libraries installed\n",
    "# It is defined by the kaggle/python docker image: https://github.com/kaggle/docker-python\n",
    "# For example, here's several helpful packages to load in \n",
    "\n",
    "import numpy as np # linear algebra\n",
    "import pandas as pd # data processing, CSV file I/O (e.g. pd.read_csv)\n",
    "\n",
    "# Input data files are available in the \"../input/\" directory.\n",
    "# For example, running this (by clicking run or pressing Shift+Enter) will list the files in the input directory\n",
    "\n",
    "import os\n",
    "print(os.listdir(\"../input\"))\n",
    "\n",
    "# Any results you write to the current directory are saved as output."
   ]
  },
  {
   "cell_type": "markdown",
   "metadata": {
    "_cell_guid": "79c7e3d0-c299-4dcb-8224-4455121ee9b0",
    "_uuid": "d629ff2d2480ee46fbb7e2d37f6b5fab8052498a",
    "collapsed": true
   },
   "source": [
    "# Wheat Seed Prediction"
   ]
  },
  {
   "cell_type": "code",
   "execution_count": 2,
   "metadata": {
    "_uuid": "d57d855914f8c3f2eb693f218ae69a442b7ad0e5"
   },
   "outputs": [],
   "source": [
    "# Load libraries\n",
    "import numpy\n",
    "from pandas import read_csv\n",
    "from sklearn.model_selection import train_test_split\n",
    "from sklearn.metrics import classification_report\n",
    "from sklearn.metrics import confusion_matrix\n",
    "from sklearn.metrics import accuracy_score\n",
    "from sklearn.discriminant_analysis import LinearDiscriminantAnalysis\n",
    "from sklearn.preprocessing import PowerTransformer"
   ]
  },
  {
   "cell_type": "markdown",
   "metadata": {
    "_uuid": "06c722b0473a131da44e03a25bb523caa7ffecb8"
   },
   "source": [
    "## Load Dataset"
   ]
  },
  {
   "cell_type": "code",
   "execution_count": 3,
   "metadata": {
    "_uuid": "093633d6a026604572acd5cce741672ce5627783"
   },
   "outputs": [],
   "source": [
    "# Load dataset\n",
    "filename = \"../input/seeds_dataset.csv\"\n",
    "names = [\"areaA\", \"perimeterP\", \"compactnessC\", \"lengthkernel\", \"widthkernel\",\n",
    "         \"asymmetry\", \"lengthkernelgroove\", \"class\"]\n",
    "dataset = read_csv(filename, delim_whitespace=True, names=names)"
   ]
  },
  {
   "cell_type": "markdown",
   "metadata": {
    "_uuid": "2994be0e0dcfbbde4b11a6bdf8528f0e061e240e"
   },
   "source": [
    "## Prepare data"
   ]
  },
  {
   "cell_type": "code",
   "execution_count": 4,
   "metadata": {
    "_uuid": "8db1b90e4b100c5b811a0c6fd738add3061e8b66"
   },
   "outputs": [],
   "source": [
    "# Split-out validation dataset\n",
    "array = dataset.values\n",
    "X = array[:, 0:7]\n",
    "Y = array[:, 7]\n",
    "validation_size = 0.30\n",
    "seed = 7"
   ]
  },
  {
   "cell_type": "markdown",
   "metadata": {
    "_uuid": "db60ee377251351258657d199c7b0ba58522ab98"
   },
   "source": [
    "## Prepare Data for LDA using Box-Cox"
   ]
  },
  {
   "cell_type": "code",
   "execution_count": 5,
   "metadata": {
    "_uuid": "83a31dd45e62249bf8395bcdb7a4d875ce56d5e6"
   },
   "outputs": [],
   "source": [
    "# make data Gaussian-Like\n",
    "bc = PowerTransformer(method=\"box-cox\", standardize=True)\n",
    "X_pt = bc.fit_transform(X)"
   ]
  },
  {
   "cell_type": "code",
   "execution_count": 6,
   "metadata": {
    "_uuid": "724630bda491f2ca4bb041298bd918111678fa41"
   },
   "outputs": [],
   "source": [
    "X_train, X_validation, Y_train, Y_validation = \\\n",
    "    train_test_split(X_pt, Y, test_size=validation_size, random_state=seed)\n",
    "num_folds = 10\n",
    "seed = 7\n",
    "scoring = 'accuracy'"
   ]
  },
  {
   "cell_type": "markdown",
   "metadata": {
    "_uuid": "b34f32879ced3f0e33f08980d35eab1a377f6177"
   },
   "source": [
    "## Predictions on validation dataset"
   ]
  },
  {
   "cell_type": "code",
   "execution_count": 7,
   "metadata": {
    "_uuid": "522db54161cd47d9b89f6de03ced89caca9c98e0"
   },
   "outputs": [
    {
     "name": "stdout",
     "output_type": "stream",
     "text": [
      "Accuracy score:\n",
      "1.0\n",
      "[[20  0  0]\n",
      " [ 0 23  0]\n",
      " [ 0  0 20]]\n",
      "              precision    recall  f1-score   support\n",
      "\n",
      "         1.0       1.00      1.00      1.00        20\n",
      "         2.0       1.00      1.00      1.00        23\n",
      "         3.0       1.00      1.00      1.00        20\n",
      "\n",
      "   micro avg       1.00      1.00      1.00        63\n",
      "   macro avg       1.00      1.00      1.00        63\n",
      "weighted avg       1.00      1.00      1.00        63\n",
      "\n"
     ]
    }
   ],
   "source": [
    "# Predictions on validation dataset\n",
    "# LinearDiscriminantAnalysis as model\n",
    "model = LinearDiscriminantAnalysis()\n",
    "model.fit(X_train, Y_train)\n",
    "\n",
    "# estimate accuracy on validation dataset\n",
    "predictions = model.predict(X_validation)\n",
    "\n",
    "print(\"Accuracy score:\")\n",
    "print(accuracy_score(Y_validation, predictions))\n",
    "print(confusion_matrix(Y_validation, predictions))\n",
    "print(classification_report(Y_validation, predictions))"
   ]
  },
  {
   "cell_type": "code",
   "execution_count": 8,
   "metadata": {
    "_uuid": "275b2fb4666a2f446bbca50947451fe20985f570"
   },
   "outputs": [],
   "source": []
  }
 ],
 "metadata": {
  "kernelspec": {
   "display_name": "Python 3.11.0 64-bit",
   "language": "python",
   "name": "python3"
  },
  "language_info": {
   "codemirror_mode": {
    "name": "ipython",
    "version": 3
   },
   "file_extension": ".py",
   "mimetype": "text/x-python",
   "name": "python",
   "nbconvert_exporter": "python",
   "pygments_lexer": "ipython3",
   "version": "3.11.0"
  },
  "vscode": {
   "interpreter": {
    "hash": "fa753352e8a3605a9407975b0f82570587cdd8ab1c1a01309bf2074804512aa2"
   }
  }
 },
 "nbformat": 4,
 "nbformat_minor": 1
}
